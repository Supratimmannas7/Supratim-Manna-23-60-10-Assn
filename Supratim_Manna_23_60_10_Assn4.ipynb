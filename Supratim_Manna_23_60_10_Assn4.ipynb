{
  "nbformat": 4,
  "nbformat_minor": 0,
  "metadata": {
    "colab": {
      "provenance": []
    },
    "kernelspec": {
      "name": "python3",
      "display_name": "Python 3"
    },
    "language_info": {
      "name": "python"
    }
  },
  "cells": [
    {
      "cell_type": "code",
      "source": [
        "import pandas as pd\n",
        "import numpy as np"
      ],
      "metadata": {
        "id": "9FpbYV5Ur12e"
      },
      "execution_count": 2,
      "outputs": []
    },
    {
      "cell_type": "code",
      "execution_count": 3,
      "metadata": {
        "colab": {
          "base_uri": "https://localhost:8080/"
        },
        "id": "NjWrKpd8pyGF",
        "outputId": "af06f4b0-13a1-40b3-cb51-2d3dc8cb3c6d"
      },
      "outputs": [
        {
          "output_type": "stream",
          "name": "stdout",
          "text": [
            "           PID        STATE      PRICE NUM_BEDROOMS NUM_BATH SQ_FT\n",
            "0  100001000.0           MP     321654            3        1  1000\n",
            "1  100002000.0  MAHARASHTRA      21325            3      1.5    --\n",
            "2  100003000.0           AP    2541654          NaN        1   850\n",
            "3  100004000.0           TN     321321            1      NaN   700\n",
            "4          NaN           TN  589465645            3        2  1600\n",
            "5  100006000.0           TN   65465466          NaN        1   800\n"
          ]
        }
      ],
      "source": [
        "# 1\n",
        "df=pd.read_csv(\"/content/drive/MyDrive/Colab Notebooks/housingdata.csv\")\n",
        "print(df.head(6))"
      ]
    },
    {
      "cell_type": "code",
      "source": [
        "# 2\n",
        "print([i for i in df.columns])\n",
        "print([i for i in df.index])"
      ],
      "metadata": {
        "colab": {
          "base_uri": "https://localhost:8080/"
        },
        "id": "xF9tfapor5sy",
        "outputId": "dc16243a-f783-4480-bedb-54a48ad8a9f0"
      },
      "execution_count": 4,
      "outputs": [
        {
          "output_type": "stream",
          "name": "stdout",
          "text": [
            "['PID', 'STATE', 'PRICE', 'NUM_BEDROOMS', 'NUM_BATH', 'SQ_FT']\n",
            "[0, 1, 2, 3, 4, 5, 6, 7, 8]\n"
          ]
        }
      ]
    },
    {
      "cell_type": "code",
      "source": [
        "# 3\n",
        "print(df['STATE'].shape)\n",
        "print(df[\"STATE\"].nunique())"
      ],
      "metadata": {
        "colab": {
          "base_uri": "https://localhost:8080/"
        },
        "id": "TThzmbqjtFF1",
        "outputId": "d0fb3bd4-fa76-467b-ca3a-445d121b9e1a"
      },
      "execution_count": 5,
      "outputs": [
        {
          "output_type": "stream",
          "name": "stdout",
          "text": [
            "(9,)\n",
            "6\n"
          ]
        }
      ]
    },
    {
      "cell_type": "code",
      "source": [
        "#4\n",
        "print(df.isnull())"
      ],
      "metadata": {
        "id": "Q5RCmHMCx8N2",
        "colab": {
          "base_uri": "https://localhost:8080/"
        },
        "outputId": "09958a8e-b4b9-4091-a490-4fc4fad5101d"
      },
      "execution_count": 6,
      "outputs": [
        {
          "output_type": "stream",
          "name": "stdout",
          "text": [
            "     PID  STATE  PRICE  NUM_BEDROOMS  NUM_BATH  SQ_FT\n",
            "0  False  False  False         False     False  False\n",
            "1  False  False  False         False     False  False\n",
            "2  False  False  False          True     False  False\n",
            "3  False  False  False         False      True  False\n",
            "4   True  False  False         False     False  False\n",
            "5  False  False  False          True     False  False\n",
            "6  False  False  False         False     False  False\n",
            "7  False  False  False         False     False   True\n",
            "8  False  False  False         False     False  False\n"
          ]
        }
      ]
    },
    {
      "cell_type": "code",
      "source": [
        "#5\n",
        "df1 = df[df.NUM_BEDROOMS != 'na']\n",
        "print(df1)\n",
        "print(df1[\"NUM_BEDROOMS\"].dropna())"
      ],
      "metadata": {
        "colab": {
          "base_uri": "https://localhost:8080/"
        },
        "id": "TAjBhWZ8bpjO",
        "outputId": "468f8a97-ce19-4866-b128-1cef530f7375"
      },
      "execution_count": 7,
      "outputs": [
        {
          "output_type": "stream",
          "name": "stdout",
          "text": [
            "           PID        STATE      PRICE NUM_BEDROOMS NUM_BATH SQ_FT\n",
            "0  100001000.0           MP     321654            3        1  1000\n",
            "1  100002000.0  MAHARASHTRA      21325            3      1.5    --\n",
            "2  100003000.0           AP    2541654          NaN        1   850\n",
            "3  100004000.0           TN     321321            1      NaN   700\n",
            "4          NaN           TN  589465645            3        2  1600\n",
            "5  100006000.0           TN   65465466          NaN        1   800\n",
            "6  100007000.0        ASSAM    3222321            2   HURLEY   950\n",
            "7  100008000.0           HP      23131            1        1   NaN\n",
            "0    3\n",
            "1    3\n",
            "3    1\n",
            "4    3\n",
            "6    2\n",
            "7    1\n",
            "Name: NUM_BEDROOMS, dtype: object\n"
          ]
        }
      ]
    },
    {
      "cell_type": "code",
      "source": [
        "#6\n",
        "df.loc[6, \"NUM_BATH\"] = np.NaN\n",
        "df[\"NUM_BATH\"].fillna(method=\"ffill\",inplace =True)\n",
        "print(df)"
      ],
      "metadata": {
        "colab": {
          "base_uri": "https://localhost:8080/"
        },
        "id": "AniyyfxYb5of",
        "outputId": "a41550d7-a98e-4378-cae4-d579615166ac"
      },
      "execution_count": 8,
      "outputs": [
        {
          "output_type": "stream",
          "name": "stdout",
          "text": [
            "           PID        STATE      PRICE NUM_BEDROOMS NUM_BATH SQ_FT\n",
            "0  100001000.0           MP     321654            3        1  1000\n",
            "1  100002000.0  MAHARASHTRA      21325            3      1.5    --\n",
            "2  100003000.0           AP    2541654          NaN        1   850\n",
            "3  100004000.0           TN     321321            1        1   700\n",
            "4          NaN           TN  589465645            3        2  1600\n",
            "5  100006000.0           TN   65465466          NaN        1   800\n",
            "6  100007000.0        ASSAM    3222321            2        1   950\n",
            "7  100008000.0           HP      23131            1        1   NaN\n",
            "8  100009000.0           HP      21212           na        2  1800\n"
          ]
        }
      ]
    },
    {
      "cell_type": "markdown",
      "source": [],
      "metadata": {
        "id": "AgMhY6d3r-cp"
      }
    },
    {
      "cell_type": "code",
      "source": [
        "#7\n",
        "df.loc[1,\"SQ_FT\"] = np.NaN\n",
        "\n",
        "df2=df.copy()\n",
        "df2.dropna(subset=[\"SQ_FT\"],inplace=True)\n",
        "df2['SQ_FT'] = df2['SQ_FT'].astype(int)\n",
        "a = df2['SQ_FT'].mean()\n",
        "\n",
        "df[\"SQ_FT\"].fillna(a,inplace =True)\n",
        "df['SQ_FT'] = df['SQ_FT'].astype(float)\n",
        "print(df)"
      ],
      "metadata": {
        "colab": {
          "base_uri": "https://localhost:8080/"
        },
        "id": "1ZnhQLsDgwPt",
        "outputId": "9024deba-a6d6-4583-c7f0-80cd4af8cf8b"
      },
      "execution_count": 9,
      "outputs": [
        {
          "output_type": "stream",
          "name": "stdout",
          "text": [
            "           PID        STATE      PRICE NUM_BEDROOMS NUM_BATH   SQ_FT\n",
            "0  100001000.0           MP     321654            3        1  1000.0\n",
            "1  100002000.0  MAHARASHTRA      21325            3      1.5  1100.0\n",
            "2  100003000.0           AP    2541654          NaN        1   850.0\n",
            "3  100004000.0           TN     321321            1        1   700.0\n",
            "4          NaN           TN  589465645            3        2  1600.0\n",
            "5  100006000.0           TN   65465466          NaN        1   800.0\n",
            "6  100007000.0        ASSAM    3222321            2        1   950.0\n",
            "7  100008000.0           HP      23131            1        1  1100.0\n",
            "8  100009000.0           HP      21212           na        2  1800.0\n"
          ]
        }
      ]
    },
    {
      "cell_type": "code",
      "source": [
        "#8\n",
        "df['SQ_FT'].sum()"
      ],
      "metadata": {
        "colab": {
          "base_uri": "https://localhost:8080/"
        },
        "id": "IFDEq1SThebs",
        "outputId": "31a2b2d0-41de-45f5-86b0-ecbbce823b3d"
      },
      "execution_count": 10,
      "outputs": [
        {
          "output_type": "execute_result",
          "data": {
            "text/plain": [
              "9900.0"
            ]
          },
          "metadata": {},
          "execution_count": 10
        }
      ]
    },
    {
      "cell_type": "code",
      "source": [
        "#9\n",
        "num_store = [1,1,1,1,1,1,1,1,1]\n",
        "df['NUM_STORE'] = num_store\n",
        "print(df)"
      ],
      "metadata": {
        "colab": {
          "base_uri": "https://localhost:8080/"
        },
        "id": "UWNE8_xbqazp",
        "outputId": "94a45225-0d95-4b8a-c738-37fde736a76b"
      },
      "execution_count": 11,
      "outputs": [
        {
          "output_type": "stream",
          "name": "stdout",
          "text": [
            "           PID        STATE      PRICE NUM_BEDROOMS NUM_BATH   SQ_FT  \\\n",
            "0  100001000.0           MP     321654            3        1  1000.0   \n",
            "1  100002000.0  MAHARASHTRA      21325            3      1.5  1100.0   \n",
            "2  100003000.0           AP    2541654          NaN        1   850.0   \n",
            "3  100004000.0           TN     321321            1        1   700.0   \n",
            "4          NaN           TN  589465645            3        2  1600.0   \n",
            "5  100006000.0           TN   65465466          NaN        1   800.0   \n",
            "6  100007000.0        ASSAM    3222321            2        1   950.0   \n",
            "7  100008000.0           HP      23131            1        1  1100.0   \n",
            "8  100009000.0           HP      21212           na        2  1800.0   \n",
            "\n",
            "   NUM_STORE  \n",
            "0          1  \n",
            "1          1  \n",
            "2          1  \n",
            "3          1  \n",
            "4          1  \n",
            "5          1  \n",
            "6          1  \n",
            "7          1  \n",
            "8          1  \n"
          ]
        }
      ]
    },
    {
      "cell_type": "code",
      "source": [
        "#10\n",
        "df3= df[df['STATE'] == \"TN\"]"
      ],
      "metadata": {
        "id": "msaWfyqSsxMs"
      },
      "execution_count": 12,
      "outputs": []
    },
    {
      "cell_type": "code",
      "source": [
        "#14\n",
        "SQ_FT_1000 = df[df['SQ_FT'] > 1000]"
      ],
      "metadata": {
        "id": "1A9eh14QtE0I"
      },
      "execution_count": 13,
      "outputs": []
    },
    {
      "cell_type": "code",
      "source": [
        "#15\n",
        "df4 = df.loc[0:2,'PID':'PRICE']"
      ],
      "metadata": {
        "id": "0obD_ROotKdt"
      },
      "execution_count": 14,
      "outputs": []
    },
    {
      "cell_type": "code",
      "source": [
        "#16\n",
        "df[\"ppa\"]=df['PRICE']/df['SQ_FT']\n",
        "df6=df\n",
        "a=list(df[\"STATE\"].unique())\n",
        "b=list(df[\"STATE\"])\n",
        "# print(b)\n",
        "# for i in a:\n",
        "#   print(i)\n",
        "a=df[\"STATE\"].unique()\n",
        "e=[]\n",
        "for i in a:\n",
        "  df7=df6[df6['STATE']==i]\n",
        "  d=np.sum(df7['ppa'])/(b.count(i))\n",
        "  e.append(d)\n",
        "  # print(d)\n",
        "# print(e)\n",
        "f=np.max(e)\n",
        "g=e.index(f)\n",
        "a1=list(a)\n",
        "print(a[g])"
      ],
      "metadata": {
        "id": "wEZwQ8t6uQlu",
        "colab": {
          "base_uri": "https://localhost:8080/"
        },
        "outputId": "818f4d51-9f22-4209-899c-182c1b8b87a8"
      },
      "execution_count": 62,
      "outputs": [
        {
          "output_type": "stream",
          "name": "stdout",
          "text": [
            "TN\n"
          ]
        }
      ]
    }
  ]
}